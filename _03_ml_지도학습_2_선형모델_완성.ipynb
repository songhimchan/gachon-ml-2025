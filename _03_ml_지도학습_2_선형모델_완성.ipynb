{
  "cells": [
    {
      "cell_type": "markdown",
      "source": [
        "# 선형모델\n",
        "\n",
        "\n",
        "---\n",
        "---\n",
        "\n"
      ],
      "metadata": {
        "id": "PCVZEUPUNldz"
      },
      "id": "PCVZEUPUNldz"
    },
    {
      "cell_type": "code",
      "source": [
        "# 0) 환경 점검: 설치된 폰트 실제 파일이 있는지 먼저 확인\n",
        "!ls -R /usr/share/fonts | head -n 50\n",
        "\n",
        "# 1) (이미 설치했다면 생략 가능) 한글 폰트 설치\n",
        "!apt-get -y update\n",
        "!apt-get -y install fonts-nanum fonts-noto-cjk\n",
        "\n",
        "# 2) 시스템 폰트 캐시 재생성\n",
        "!fc-cache -fv\n",
        "\n",
        "# 3) Matplotlib 내부 폰트 캐시 삭제 (중요)\n",
        "import os, shutil\n",
        "import matplotlib\n",
        "cache_dir = matplotlib.get_cachedir()      # 보통 ~/.cache/matplotlib\n",
        "# print(\"matplotlib cache:\", cache_dir)\n",
        "shutil.rmtree(cache_dir, ignore_errors=True)\n",
        "\n",
        "# 4) 런타임 재시작 필요 없이, 폰트 매니저 강제 리로드\n",
        "from matplotlib import font_manager\n",
        "_ = font_manager._load_fontmanager(try_read_cache=False)\n",
        "\n",
        "# 5) 폰트 존재 여부 확인 (fc-list와 파이썬에서 모두 확인)\n",
        "# !fc-list | grep -i \"nanum\\|noto\" | head -n 40\n",
        "\n",
        "# from matplotlib import font_manager\n",
        "# fonts = font_manager.findSystemFonts()\n",
        "# [f for f in fonts if (\"Nanum\" in f or \"NotoSansCJK\" in f or \"Noto\" in f)][:10]\n",
        "\n",
        "\n",
        "# 6) 한글 폰트 지정\n",
        "import seaborn as sns\n",
        "import numpy as np\n",
        "from matplotlib import font_manager, pyplot as plt\n",
        "\n",
        "font_path = \"/usr/share/fonts/truetype/nanum/NanumBarunGothic.ttf\"\n",
        "font_manager.fontManager.addfont(font_path)\n",
        "family_name = font_manager.FontProperties(fname=font_path).get_name()\n",
        "# print(\"적용할 패밀리명:\", family_name)\n",
        "\n",
        "plt.rcParams[\"font.family\"] = family_name\n",
        "plt.rcParams[\"axes.unicode_minus\"] = False\n",
        "print(\"✅ 나눔폰트 설정 완료\")# 폰트 지정"
      ],
      "metadata": {
        "id": "MTbNqGq8tjbK"
      },
      "id": "MTbNqGq8tjbK",
      "execution_count": null,
      "outputs": []
    },
    {
      "cell_type": "markdown",
      "source": [
        "## **1. 선형모델 이해**\n",
        "- **선형모델**은 머신러닝의 기초이자 많은 복잡한 모델의 출발점 해석 가능성이 중요한 상황에서 특히 유용함\n",
        "- 선형 모델은 입력 특징(feature)의 선형 결합( 𝑤^⊤ 𝑥+𝑏)으로 예측하고  \n",
        "- 분류는 이를 로지스틱/소프트맥스로 확률화하며,  \n",
        "- 정규화(L1/L2) 로 과적합을 억제하는  \n",
        "- 빠르고 해석 가능한 볼록 최적화 기반의 **기본선(Baseline)모델**"
      ],
      "metadata": {
        "id": "mcvw1xqqXRQP"
      },
      "id": "mcvw1xqqXRQP"
    },
    {
      "cell_type": "markdown",
      "source": [
        "### 예제 : 간단 선형모델"
      ],
      "metadata": {
        "id": "qNRovB_hrVj7"
      },
      "id": "qNRovB_hrVj7"
    },
    {
      "cell_type": "code",
      "source": [
        "from sklearn.linear_model import LinearRegression, Ridge, Lasso, LogisticRegression\n",
        "from sklearn.datasets import make_regression, make_classification\n",
        "\n",
        "# 회귀 데이터\n",
        "X_reg, y_reg = make_regression(n_samples=100, n_features=5, random_state=42)\n",
        "\n",
        "# 분류 데이터\n",
        "X_clf, y_clf = make_classification(n_samples=100, n_features=5, random_state=42)\n",
        "\n",
        "# 회귀 모델들\n",
        "linear_reg = LinearRegression().fit(X_reg, y_reg)\n",
        "ridge_reg = Ridge(alpha=1.0).fit(X_reg, y_reg)\n",
        "lasso_reg = Lasso(alpha=1.0).fit(X_reg, y_reg)\n",
        "\n",
        "# 분류 모델\n",
        "logistic_clf = LogisticRegression().fit(X_clf, y_clf)\n",
        "\n",
        "print(\"선형회귀 R²:\", linear_reg.score(X_reg, y_reg))\n",
        "print(\"릿지회귀(L2) R²:\", ridge_reg.score(X_reg, y_reg))\n",
        "print(\"라쏘회귀(L1) R²:\", lasso_reg.score(X_reg, y_reg))\n",
        "print(\"로지스틱회귀 정확도:\", logistic_clf.score(X_clf, y_clf))"
      ],
      "metadata": {
        "id": "VbWbyz46rVsO"
      },
      "id": "VbWbyz46rVsO",
      "execution_count": null,
      "outputs": []
    },
    {
      "cell_type": "markdown",
      "source": [
        "### 예제 : Tensorflow를 이용한 다층 신경망 회귀 모델"
      ],
      "metadata": {
        "id": "KFI0rRLhr8ss"
      },
      "id": "KFI0rRLhr8ss"
    },
    {
      "cell_type": "code",
      "source": [
        "import tensorflow as tf\n",
        "from sklearn.datasets import make_regression\n",
        "from sklearn.model_selection import train_test_split\n",
        "\n",
        "# 복잡한 데이터 생성\n",
        "X, y = make_regression(n_samples=1000,\n",
        "                       n_features=10,\n",
        "                       noise=0.1,\n",
        "                       random_state=42)\n",
        "X_train, X_test, y_train, y_test = train_test_split(X, y, test_size=0.2, random_state=42)\n",
        "\n",
        "print(\"=== 다층 신경망 회귀 모델 ===\")\n",
        "\n",
        "# 다층 모델 구성\n",
        "model = tf.keras.Sequential([\n",
        "    tf.keras.layers.Dense(64, activation='relu', input_shape=(10,)),  # 은닉층 1\n",
        "    tf.keras.layers.Dense(32, activation='relu'),                     # 은닉층 2\n",
        "    tf.keras.layers.Dense(1)                                          # 출력층\n",
        "])\n",
        "\n",
        "# 컴파일 및 훈련\n",
        "model.compile(optimizer='adam', loss='mse', metrics=['mae'])\n",
        "model.fit(X_train, y_train, epochs=100, validation_split=0.2, verbose=1)\n",
        "\n",
        "# 평가\n",
        "test_loss, test_mae = model.evaluate(X_test, y_test, verbose=0)\n",
        "print(f\"테스트 MSE: {test_loss:.2f}\")\n",
        "print(f\"테스트 MAE: {test_mae:.2f}\")"
      ],
      "metadata": {
        "collapsed": true,
        "id": "o7rwX_Wtr82U"
      },
      "id": "o7rwX_Wtr82U",
      "execution_count": null,
      "outputs": []
    },
    {
      "cell_type": "markdown",
      "source": [
        "\n",
        "\n",
        "---\n",
        "\n"
      ],
      "metadata": {
        "id": "15LYwJ5IuB5m"
      },
      "id": "15LYwJ5IuB5m"
    },
    {
      "cell_type": "markdown",
      "source": [],
      "metadata": {
        "id": "goUmR5S9vK4e"
      },
      "id": "goUmR5S9vK4e"
    },
    {
      "cell_type": "markdown",
      "source": [],
      "metadata": {
        "id": "8CIIGgNvvK1q"
      },
      "id": "8CIIGgNvvK1q"
    },
    {
      "cell_type": "markdown",
      "source": [],
      "metadata": {
        "id": "WWg_HYt5vKJX"
      },
      "id": "WWg_HYt5vKJX"
    },
    {
      "cell_type": "markdown",
      "source": [
        "## **선형 회귀**"
      ],
      "metadata": {
        "id": "057Gw4hduClM"
      },
      "id": "057Gw4hduClM"
    },
    {
      "cell_type": "markdown",
      "source": [
        "- 데이터의 추세를 그래프로 표현하여 이후의 패턴을 예측하는 데 활용하는 통계 분석 방법론 --> **회귀 분석**\n",
        "- label(Y)과 feature(X)의 관계를 잘 설명하는 모델을 만드는 것 --> **머신러닝**\n",
        "- 최적의 직선을 기반으로 예측하는 알고리즘 --> **선형 회귀(Linear Regression)**\n",
        "\n",
        "- $𝑦(𝑤, 𝑥)=𝑤_0+ 𝑤_1 𝑥_1  +...+ 𝑤_𝑝 𝑥_𝑝$   \n",
        "    - $ 𝒙 = 독립변수,   w = 가중치,   y = 종속변수$"
      ],
      "metadata": {
        "id": "GC7W-7uXuFFh"
      },
      "id": "GC7W-7uXuFFh"
    },
    {
      "cell_type": "markdown",
      "source": [
        "### **예제 : 기본 선형 회귀**"
      ],
      "metadata": {
        "id": "9KgdDnq8vfoI"
      },
      "id": "9KgdDnq8vfoI"
    },
    {
      "cell_type": "markdown",
      "source": [
        "### **예제 : Tensorflow(딥러닝)를 이용한 선형회귀**"
      ],
      "metadata": {
        "id": "V002l-OMstpd"
      },
      "id": "V002l-OMstpd"
    },
    {
      "cell_type": "code",
      "source": [
        "from sklearn.linear_model import LinearRegression\n",
        "from sklearn.datasets import make_regression\n",
        "from sklearn.model_selection import train_test_split\n",
        "from sklearn.metrics import r2_score, mean_squared_error\n",
        "\n",
        "# 1. 데이터 생성\n",
        "X, y = make_regression(n_samples=100, n_features=1, noise=10, random_state=42)\n",
        "X_train, X_test, y_train, y_test = train_test_split(X, y, test_size=0.2, random_state=42)\n",
        "\n",
        "# 2. 모델 생성 및 훈련\n",
        "model = LinearRegression()\n",
        "model.fit(X_train, y_train)\n",
        "\n",
        "# 3. 예측\n",
        "y_pred = model.predict(X_test)\n",
        "\n",
        "# 4. 성능 평가\n",
        "r2 = r2_score(y_test, y_pred)\n",
        "mse = mean_squared_error(y_test, y_pred)\n",
        "\n",
        "print(f\"R² Score: {r2:.3f}\")\n",
        "print(f\"MSE: {mse:.3f}\")\n",
        "print(f\"모델 계수: {model.coef_[0]:.3f}\")\n",
        "print(f\"절편: {model.intercept_:.3f}\")"
      ],
      "metadata": {
        "id": "ZskPLeE7vlGo"
      },
      "id": "ZskPLeE7vlGo",
      "execution_count": null,
      "outputs": []
    },
    {
      "cell_type": "code",
      "source": [
        "import tensorflow as tf\n",
        "import numpy as np\n",
        "import matplotlib.pyplot as plt\n",
        "from sklearn.datasets import make_regression\n",
        "from sklearn.model_selection import train_test_split\n",
        "from sklearn.preprocessing import StandardScaler\n",
        "\n",
        "plt.rcParams[\"font.family\"] = \"NanumBarunGothic\"\n",
        "\n",
        "print(\"TensorFlow 버전:\", tf.__version__)\n",
        "\n",
        "# 1. 데이터 준비\n",
        "print(\"=== 데이터 생성 ===\")\n",
        "X, y = make_regression(n_samples=1000, n_features=1, noise=10, random_state=42)\n",
        "X_train, X_test, y_train, y_test = train_test_split(X, y, test_size=0.2, random_state=42)\n",
        "\n",
        "# 데이터 정규화 (선택사항이지만 권장)\n",
        "scaler = StandardScaler()\n",
        "X_train_scaled = scaler.fit_transform(X_train)\n",
        "X_test_scaled = scaler.transform(X_test)\n",
        "\n",
        "print(f\"훈련 데이터 크기: {X_train.shape}\")\n",
        "print(f\"테스트 데이터 크기: {X_test.shape}\")\n",
        "\n",
        "# 2. 모델 구성\n",
        "print(\"\\n=== 모델 구성 ===\")\n",
        "model = tf.keras.Sequential([\n",
        "    tf.keras.layers.Dense(1, input_shape=(1,))  # 입력 1개, 출력 1개\n",
        "])\n",
        "\n",
        "# 3. 모델 컴파일\n",
        "model.compile(\n",
        "    optimizer='adam',           # 최적화 알고리즘\n",
        "    loss='mean_squared_error',  # 손실 함수\n",
        "    metrics=['mae']             # 평가 지표\n",
        ")\n",
        "\n",
        "# 모델 구조 확인\n",
        "model.summary()\n",
        "\n",
        "# 4. 모델 훈련\n",
        "print(\"\\n=== 모델 훈련 ===\")\n",
        "history = model.fit(\n",
        "    X_train_scaled, y_train,\n",
        "    epochs=100,              # 훈련 반복 횟수\n",
        "    batch_size=32,           # 배치 크기\n",
        "    validation_split=0.2,    # 검증 데이터 비율\n",
        "    verbose=1                # 훈련 과정 출력\n",
        ")\n",
        "\n",
        "# 5. 모델 평가\n",
        "print(\"\\n=== 모델 평가 ===\")\n",
        "test_loss, test_mae = model.evaluate(X_test_scaled, y_test, verbose=0)\n",
        "print(f\"테스트 손실 (MSE): {test_loss:.2f}\")\n",
        "print(f\"테스트 MAE: {test_mae:.2f}\")\n",
        "\n",
        "# 6. 예측\n",
        "y_pred = model.predict(X_test_scaled)\n",
        "\n",
        "# R² Score 계산\n",
        "from sklearn.metrics import r2_score\n",
        "r2 = r2_score(y_test, y_pred)\n",
        "print(f\"R² Score: {r2:.3f}\")\n",
        "\n",
        "# 7. 결과 시각화\n",
        "plt.figure(figsize=(12, 4))\n",
        "\n",
        "# 훈련 과정\n",
        "plt.subplot(1, 3, 1)\n",
        "plt.plot(history.history['loss'], label='훈련 손실')\n",
        "plt.plot(history.history['val_loss'], label='검증 손실')\n",
        "plt.title('훈련 과정')\n",
        "plt.xlabel('Epoch')\n",
        "plt.ylabel('손실')\n",
        "plt.legend()\n",
        "\n",
        "# 예측 결과\n",
        "plt.subplot(1, 3, 2)\n",
        "plt.scatter(X_test, y_test, alpha=0.6, label='실제값')\n",
        "plt.scatter(X_test, y_pred, alpha=0.6, label='예측값')\n",
        "plt.title('예측 결과')\n",
        "plt.xlabel('X')\n",
        "plt.ylabel('y')\n",
        "plt.legend()\n",
        "\n",
        "# 실제 vs 예측\n",
        "plt.subplot(1, 3, 3)\n",
        "plt.scatter(y_test, y_pred, alpha=0.6)\n",
        "plt.plot([y_test.min(), y_test.max()], [y_test.min(), y_test.max()], 'r--')\n",
        "plt.title('실제 vs 예측')\n",
        "plt.xlabel('실제값')\n",
        "plt.ylabel('예측값')\n",
        "\n",
        "plt.tight_layout()\n",
        "plt.show()"
      ],
      "metadata": {
        "collapsed": true,
        "id": "su-SWnRSstyA"
      },
      "id": "su-SWnRSstyA",
      "execution_count": null,
      "outputs": []
    },
    {
      "cell_type": "markdown",
      "metadata": {
        "id": "cVV_gxNQj858"
      },
      "source": [
        "### **[실습] 선형회귀 실습하기**"
      ],
      "id": "cVV_gxNQj858"
    },
    {
      "cell_type": "markdown",
      "metadata": {
        "id": "_SPcoWhCj858"
      },
      "source": [
        "#### **1) 데이터 구성하기**"
      ],
      "id": "_SPcoWhCj858"
    },
    {
      "cell_type": "code",
      "execution_count": null,
      "metadata": {
        "ExecuteTime": {
          "end_time": "2023-05-04T07:44:17.329131Z",
          "start_time": "2023-05-04T07:44:16.878497Z"
        },
        "id": "H0JU0zIZj859"
      },
      "outputs": [],
      "source": [
        "# 라이브러리 불러오기 (numpy, matplotlib)\n",
        "import numpy as np\n",
        "import matplotlib.pyplot as plt\n",
        "\n",
        "# 렌덤 시드 고정\n",
        "np.random.seed(2024)"
      ],
      "id": "H0JU0zIZj859"
    },
    {
      "cell_type": "code",
      "execution_count": null,
      "metadata": {
        "ExecuteTime": {
          "end_time": "2023-05-04T07:44:18.060789Z",
          "start_time": "2023-05-04T07:44:18.048800Z"
        },
        "id": "4r_OFOhRj85_"
      },
      "outputs": [],
      "source": [
        "# x는 1~10, y = 4*x+7인 학습 데이터 생성하기\n",
        "x = []\n",
        "y = []\n",
        "for i in range(1,11):\n",
        "    x.append(i)\n",
        "    y.append(4*i+7)"
      ],
      "id": "4r_OFOhRj85_"
    },
    {
      "cell_type": "code",
      "execution_count": null,
      "metadata": {
        "id": "Nc6EL8_3j85_"
      },
      "outputs": [],
      "source": [
        "x = list(range(1,11))\n",
        "y = [4*i+7 for i in x]"
      ],
      "id": "Nc6EL8_3j85_"
    },
    {
      "cell_type": "code",
      "execution_count": null,
      "metadata": {
        "ExecuteTime": {
          "end_time": "2023-05-04T07:44:18.581181Z",
          "start_time": "2023-05-04T07:44:18.565919Z"
        },
        "id": "Hat8Gq04j86A"
      },
      "outputs": [],
      "source": [
        "# 데이터 확인하기\n",
        "print('x : ', x)\n",
        "print('y : ', y)"
      ],
      "id": "Hat8Gq04j86A"
    },
    {
      "cell_type": "markdown",
      "metadata": {
        "id": "nr9vzmMIj86B"
      },
      "source": [
        "#### **2) 선형회귀 학습 하기**"
      ],
      "id": "nr9vzmMIj86B"
    },
    {
      "cell_type": "code",
      "execution_count": null,
      "metadata": {
        "ExecuteTime": {
          "end_time": "2023-05-04T07:44:21.257340Z",
          "start_time": "2023-05-04T07:44:19.714621Z"
        },
        "id": "jJhr3otBj86B"
      },
      "outputs": [],
      "source": [
        "# 선형회귀 라이브러리 불러오기\n",
        "from sklearn.linear_model import LinearRegression\n",
        "# 선형회귀 생성하기\n",
        "reg = LinearRegression()"
      ],
      "id": "jJhr3otBj86B"
    },
    {
      "cell_type": "code",
      "execution_count": null,
      "metadata": {
        "ExecuteTime": {
          "end_time": "2023-05-04T07:44:23.314984Z",
          "start_time": "2023-05-04T07:44:23.298595Z"
        },
        "id": "qOwylbD-j86C"
      },
      "outputs": [],
      "source": [
        "# 학습을 위해 1행10열 구성 데이터를 10행 1열로 변경하기\n",
        "# 사이킷런은 ndarray 타입을 input으로 받는다.\n",
        "x = np.array(x).reshape(-1, 1)\n",
        "\n",
        "# 데이터 확인하기\n",
        "print(\"학습 데이터 확인\")\n",
        "print('x :' ,x)\n",
        "print('x.shape : ', x.shape)"
      ],
      "id": "qOwylbD-j86C"
    },
    {
      "cell_type": "code",
      "execution_count": null,
      "metadata": {
        "ExecuteTime": {
          "end_time": "2023-05-04T07:44:24.122195Z",
          "start_time": "2023-05-04T07:44:24.088474Z"
        },
        "id": "65dOLru3j86D"
      },
      "outputs": [],
      "source": [
        "# 학습하기\n",
        "reg.fit(x,y)"
      ],
      "id": "65dOLru3j86D"
    },
    {
      "cell_type": "code",
      "execution_count": null,
      "metadata": {
        "ExecuteTime": {
          "end_time": "2023-05-04T07:44:24.929180Z",
          "start_time": "2023-05-04T07:44:24.907959Z"
        },
        "id": "3FQJPw5yj86E"
      },
      "outputs": [],
      "source": [
        "# 산식 추정을 위한 기울기(coef) 및 절편(intercept) 확인하기\n",
        "print(f'''기울기 및 절편 확인 coef = {reg.coef_}, intercept = {reg.intercept_} ''')"
      ],
      "id": "3FQJPw5yj86E"
    },
    {
      "cell_type": "code",
      "execution_count": null,
      "metadata": {
        "ExecuteTime": {
          "end_time": "2023-05-04T07:44:25.690626Z",
          "start_time": "2023-05-04T07:44:25.667002Z"
        },
        "id": "Gcgs4Mirj86E"
      },
      "outputs": [],
      "source": [
        "# 절편과 기울기로 결과를 수동 계산하여 비교값 생성하기\n",
        "coef_intercept = x * reg.coef_[0] + reg.intercept_\n",
        "print(\"계산 결과\")\n",
        "print(coef_intercept)"
      ],
      "id": "Gcgs4Mirj86E"
    },
    {
      "cell_type": "markdown",
      "metadata": {
        "id": "45VfcLmGj86F"
      },
      "source": [
        "#### **3) 결과 비교를 위해 그래프 그리기**"
      ],
      "id": "45VfcLmGj86F"
    },
    {
      "cell_type": "code",
      "execution_count": null,
      "metadata": {
        "ExecuteTime": {
          "end_time": "2023-05-04T07:44:27.786977Z",
          "start_time": "2023-05-04T07:44:27.365974Z"
        },
        "scrolled": true,
        "id": "mXCJEDgzj86F"
      },
      "outputs": [],
      "source": [
        "# scatter plot 그래프그리기\n",
        "plt.scatter(x, y, color = 'r', s = 20)\n",
        "# 선 그래프 그리기\n",
        "plt.plot(x, coef_intercept, color = 'orange')\n",
        "# coef 값 그래프 내에 텍스트 삽입하기\n",
        "plt.text(7, 20, 'coef = %.0f'%reg.coef_[0], size = 12)\n",
        "# intercept 값 그래프 내에 텍스트 삽입하기\n",
        "plt.text(7, 18, 'intercept_ = %.0f'%reg.intercept_, size = 12)\n",
        "# x축(가로) label 설정하기\n",
        "plt.xlabel('x')\n",
        "# y축(세로) label 설정하기\n",
        "plt.ylabel('y')\n",
        "plt.show()"
      ],
      "id": "mXCJEDgzj86F"
    },
    {
      "cell_type": "code",
      "source": [],
      "metadata": {
        "id": "qUulbLehwpV-"
      },
      "id": "qUulbLehwpV-",
      "execution_count": null,
      "outputs": []
    },
    {
      "cell_type": "markdown",
      "metadata": {
        "id": "FcdnW1VOj86H"
      },
      "source": [
        "### **[실습] 사례기반 선형회귀 모델링**"
      ],
      "id": "FcdnW1VOj86H"
    },
    {
      "cell_type": "markdown",
      "metadata": {
        "id": "LIrqUFOGj86H"
      },
      "source": [
        "#### **1) 데이터 전처리하기**"
      ],
      "id": "LIrqUFOGj86H"
    },
    {
      "cell_type": "code",
      "execution_count": null,
      "metadata": {
        "ExecuteTime": {
          "end_time": "2023-05-04T07:44:30.305809Z",
          "start_time": "2023-05-04T07:44:29.307134Z"
        },
        "id": "k9hsBz6Aj86H"
      },
      "outputs": [],
      "source": [
        "# 판다스 라이브러리 불러오기\n",
        "import pandas as pd"
      ],
      "id": "k9hsBz6Aj86H"
    },
    {
      "cell_type": "code",
      "execution_count": null,
      "metadata": {
        "ExecuteTime": {
          "end_time": "2023-05-04T07:44:35.789023Z",
          "start_time": "2023-05-04T07:44:30.994841Z"
        },
        "id": "77tiAXGLj86I"
      },
      "outputs": [],
      "source": [
        "# 데이터 불러오기\n",
        "df = pd.read_csv(\"국민건강보험공단_건강검진정보_20211229.CSV\", encoding='cp949')"
      ],
      "id": "77tiAXGLj86I"
    },
    {
      "cell_type": "code",
      "execution_count": null,
      "metadata": {
        "ExecuteTime": {
          "end_time": "2023-05-04T07:44:37.432183Z",
          "start_time": "2023-05-04T07:44:37.423562Z"
        },
        "id": "3p-lqladj86I"
      },
      "outputs": [],
      "source": [
        "# pandas display 옵션 조정을 통해 View 범위 확장하기\n",
        "pd.set_option('display.max_columns', None) # display 옵션을 통한 전체 열 확장"
      ],
      "id": "3p-lqladj86I"
    },
    {
      "cell_type": "code",
      "execution_count": null,
      "metadata": {
        "ExecuteTime": {
          "end_time": "2023-05-04T07:44:38.027852Z",
          "start_time": "2023-05-04T07:44:37.942406Z"
        },
        "id": "lYGnW57Hj86I"
      },
      "outputs": [],
      "source": [
        "# 데이터 확인하기 (상위 5개)\n",
        "df.head()"
      ],
      "id": "lYGnW57Hj86I"
    },
    {
      "cell_type": "code",
      "execution_count": null,
      "metadata": {
        "ExecuteTime": {
          "end_time": "2023-05-04T07:44:39.106959Z",
          "start_time": "2023-05-04T07:44:38.954678Z"
        },
        "id": "s1ApDDz7j86I"
      },
      "outputs": [],
      "source": [
        "# 가설을 참고하여 데이터 일부 삭제하기\n",
        "# 시력, 청력, 치아 관련 칼럼은 관계없다는 가정으로 열 제거하기\n",
        "df.drop([\"치아우식증유무\", '치석','시력(좌)', '시력(우)', '청력(좌)',  '청력(우)', '구강검진 수검여부'], axis=1, inplace=True)"
      ],
      "id": "s1ApDDz7j86I"
    },
    {
      "cell_type": "code",
      "execution_count": null,
      "metadata": {
        "ExecuteTime": {
          "end_time": "2023-05-04T07:44:39.536909Z",
          "start_time": "2023-05-04T07:44:39.489988Z"
        },
        "id": "ID94TQIzj86J"
      },
      "outputs": [],
      "source": [
        "# 기준년도 칼럼 확인하기 (모두 '2020' 동일 값이므로 '기준년도' 칼럼 삭제)\n",
        "print(\"기준년도 칼럼 확인\")\n",
        "df.기준년도.value_counts()"
      ],
      "id": "ID94TQIzj86J"
    },
    {
      "cell_type": "code",
      "execution_count": null,
      "metadata": {
        "ExecuteTime": {
          "end_time": "2023-05-04T07:44:40.282717Z",
          "start_time": "2023-05-04T07:44:40.073790Z"
        },
        "id": "K_gDXOOWj86K"
      },
      "outputs": [],
      "source": [
        "# 가입자 일련번호 칼럼 확인하기 (모두 unique한 값으로 확인되어 '가입자 일련번호' 컬럼 삭제)\n",
        "print(\"가입자 일련번호 칼럼 확인\")\n",
        "df[\"가입자 일련번호\"].value_counts()"
      ],
      "id": "K_gDXOOWj86K"
    },
    {
      "cell_type": "code",
      "execution_count": null,
      "metadata": {
        "ExecuteTime": {
          "end_time": "2023-05-04T07:44:40.785893Z",
          "start_time": "2023-05-04T07:44:40.740479Z"
        },
        "id": "u97eo3KWj86K"
      },
      "outputs": [],
      "source": [
        "# 성별코드 칼럼 확인하기\n",
        "print(\"성별코드 칼럼 확인\")\n",
        "df.성별코드.value_counts()"
      ],
      "id": "u97eo3KWj86K"
    },
    {
      "cell_type": "code",
      "execution_count": null,
      "metadata": {
        "ExecuteTime": {
          "end_time": "2023-05-04T07:44:41.615931Z",
          "start_time": "2023-05-04T07:44:41.474817Z"
        },
        "id": "QSOUbShAj86L"
      },
      "outputs": [],
      "source": [
        "# 불필요한 데이터 삭제하기\n",
        "df.drop([\"기준년도\", '가입자 일련번호', '데이터 공개일자', '성별코드', '시도코드'], axis=1, inplace=True)"
      ],
      "id": "QSOUbShAj86L"
    },
    {
      "cell_type": "code",
      "execution_count": null,
      "metadata": {
        "ExecuteTime": {
          "end_time": "2023-05-04T07:44:42.287014Z",
          "start_time": "2023-05-04T07:44:42.191505Z"
        },
        "id": "ENxaOgayj86L"
      },
      "outputs": [],
      "source": [
        "# 별도의 test 데이터 추출하기\n",
        "test = df[df['LDL 콜레스테롤'].isnull()]"
      ],
      "id": "ENxaOgayj86L"
    },
    {
      "cell_type": "code",
      "execution_count": null,
      "metadata": {
        "ExecuteTime": {
          "end_time": "2023-05-04T07:44:42.898305Z",
          "start_time": "2023-05-04T07:44:42.764566Z"
        },
        "id": "lNMwOcMbj86L"
      },
      "outputs": [],
      "source": [
        "# NaN 데이터 행 단위로 삭제하기\n",
        "train = df.dropna(axis=0)"
      ],
      "id": "lNMwOcMbj86L"
    },
    {
      "cell_type": "code",
      "execution_count": null,
      "metadata": {
        "ExecuteTime": {
          "end_time": "2023-05-04T07:44:43.406005Z",
          "start_time": "2023-05-04T07:44:43.358203Z"
        },
        "id": "kOPWOubyj86L"
      },
      "outputs": [],
      "source": [
        "# 학습 데이터 확인하기\n",
        "print(\"학습 데이터 확인\")\n",
        "train.head(1)"
      ],
      "id": "kOPWOubyj86L"
    },
    {
      "cell_type": "code",
      "execution_count": null,
      "metadata": {
        "ExecuteTime": {
          "end_time": "2023-05-04T07:44:44.062949Z",
          "start_time": "2023-05-04T07:44:44.045434Z"
        },
        "id": "_p_mxX5Kj86M"
      },
      "outputs": [],
      "source": [
        "# 정답 데이터 생성하기\n",
        "y = train['LDL 콜레스테롤']"
      ],
      "id": "_p_mxX5Kj86M"
    },
    {
      "cell_type": "code",
      "execution_count": null,
      "metadata": {
        "ExecuteTime": {
          "end_time": "2023-05-04T07:44:44.767348Z",
          "start_time": "2023-05-04T07:44:44.731294Z"
        },
        "id": "hnp7nA3Rj86M"
      },
      "outputs": [],
      "source": [
        "# 학습 데이터 생성하기\n",
        "x = train.drop('LDL 콜레스테롤', axis=1)"
      ],
      "id": "hnp7nA3Rj86M"
    },
    {
      "cell_type": "code",
      "execution_count": null,
      "metadata": {
        "ExecuteTime": {
          "end_time": "2023-05-04T07:44:45.363659Z",
          "start_time": "2023-05-04T07:44:45.346000Z"
        },
        "id": "UJ2aewMvj86M"
      },
      "outputs": [],
      "source": [
        "# validation set 추출을 위한 train_test_split 라이브러리 불러오기\n",
        "from sklearn.model_selection import train_test_split"
      ],
      "id": "UJ2aewMvj86M"
    },
    {
      "cell_type": "code",
      "execution_count": null,
      "metadata": {
        "ExecuteTime": {
          "end_time": "2023-05-04T07:44:46.147364Z",
          "start_time": "2023-05-04T07:44:45.965152Z"
        },
        "id": "kBiEsfaqj86M"
      },
      "outputs": [],
      "source": [
        "# scikit learn 예시 코드 비율 대로 불러오기\n",
        "X_train, X_test, y_train, y_test = train_test_split(\n",
        "    x, y, test_size=0.33, random_state=42)"
      ],
      "id": "kBiEsfaqj86M"
    },
    {
      "cell_type": "code",
      "execution_count": null,
      "metadata": {
        "ExecuteTime": {
          "end_time": "2023-05-04T07:44:47.092682Z",
          "start_time": "2023-05-04T07:44:47.072624Z"
        },
        "id": "NEpnJRIYj86V"
      },
      "outputs": [],
      "source": [
        "# 학습/검증 데이터 확인하기\n",
        "print(\"학습/검증 데이터 확인\")\n",
        "print(X_train.shape, y_train.shape, X_test.shape, y_test.shape)"
      ],
      "id": "NEpnJRIYj86V"
    },
    {
      "cell_type": "markdown",
      "metadata": {
        "id": "gRbGZBnfj86W"
      },
      "source": [
        "#### **2) 선형회귀 학습 및 추론하기**"
      ],
      "id": "gRbGZBnfj86W"
    },
    {
      "cell_type": "code",
      "execution_count": null,
      "metadata": {
        "ExecuteTime": {
          "end_time": "2023-05-04T07:44:48.727001Z",
          "start_time": "2023-05-04T07:44:48.362633Z"
        },
        "id": "oU541Zf9j86W"
      },
      "outputs": [],
      "source": [
        "# 1. 라이브러리 불러오기\n",
        "from sklearn.linear_model import LinearRegression\n",
        "# 2. 모델 생성하기\n",
        "reg = LinearRegression()\n",
        "# 3. 학습하기\n",
        "reg.fit(X_train,y_train)\n",
        "# 4. 예측하기\n",
        "reg.predict(X_test)"
      ],
      "id": "oU541Zf9j86W"
    },
    {
      "cell_type": "code",
      "execution_count": null,
      "metadata": {
        "ExecuteTime": {
          "end_time": "2023-05-04T07:44:49.228940Z",
          "start_time": "2023-05-04T07:44:49.210241Z"
        },
        "id": "IoLu2sdyj86W"
      },
      "outputs": [],
      "source": [
        "# 기울기와 절편 확인하기\n",
        "print(f'''기울기 및 절편 확인\n",
        "기울기확인 coef = {reg.coef_}\n",
        "절편확인 intercept = {reg.intercept_}''')"
      ],
      "id": "IoLu2sdyj86W"
    },
    {
      "cell_type": "code",
      "execution_count": null,
      "metadata": {
        "ExecuteTime": {
          "end_time": "2023-05-04T07:44:49.958476Z",
          "start_time": "2023-05-04T07:44:49.938727Z"
        },
        "id": "RlbZREgNj86X"
      },
      "outputs": [],
      "source": [
        "# 각각 데이터에 대해 가중치(or 회귀계수) 확인하기\n",
        "print(\"전체 컬럼에 대해서 가중치 확인\")\n",
        "print('-'*30)\n",
        "for index ,columns in enumerate(X_train.columns):\n",
        "    print(f\"{columns}(x{index}) = {reg.coef_[index]}\")"
      ],
      "id": "RlbZREgNj86X"
    },
    {
      "cell_type": "markdown",
      "metadata": {
        "id": "c3-TgT2aj86X"
      },
      "source": [
        "#### **3) 예측을 통한 최종 검증하기**"
      ],
      "id": "c3-TgT2aj86X"
    },
    {
      "cell_type": "code",
      "execution_count": null,
      "metadata": {
        "ExecuteTime": {
          "end_time": "2023-05-04T07:44:53.290277Z",
          "start_time": "2023-05-04T07:44:53.252530Z"
        },
        "id": "EogxDBkrj86X"
      },
      "outputs": [],
      "source": [
        "# 예측하기\n",
        "y_pred = reg.predict(X_test)"
      ],
      "id": "EogxDBkrj86X"
    },
    {
      "cell_type": "code",
      "execution_count": null,
      "metadata": {
        "ExecuteTime": {
          "end_time": "2023-05-04T07:44:53.824089Z",
          "start_time": "2023-05-04T07:44:53.816061Z"
        },
        "id": "YdRNjr5Mj86Y"
      },
      "outputs": [],
      "source": [
        "# 결과 검증을 위해 MSE 라이브러리 불러오기\n",
        "# 최종적으로는 RMSE를 사용하기\n",
        "from sklearn.metrics import mean_squared_error"
      ],
      "id": "YdRNjr5Mj86Y"
    },
    {
      "cell_type": "code",
      "execution_count": null,
      "metadata": {
        "ExecuteTime": {
          "end_time": "2023-05-04T07:44:54.278914Z",
          "start_time": "2023-05-04T07:44:54.261136Z"
        },
        "id": "47wv2LB5j86Y"
      },
      "outputs": [],
      "source": [
        "# mse 라이브러리 에서 RMSE 는 squared 옵션을 False로 설정하기\n",
        "rmse = mean_squared_error(y_test, y_pred)"
      ],
      "id": "47wv2LB5j86Y"
    },
    {
      "cell_type": "code",
      "execution_count": null,
      "metadata": {
        "ExecuteTime": {
          "end_time": "2023-05-04T07:44:54.861533Z",
          "start_time": "2023-05-04T07:44:54.835118Z"
        },
        "id": "LmGKNFfsj86Y"
      },
      "outputs": [],
      "source": [
        "# 주요 Feature 삭제 전 rmse 확인하기\n",
        "print(f'''주요 Feature 삭제 전 rmse = {round(rmse,3)}''')"
      ],
      "id": "LmGKNFfsj86Y"
    },
    {
      "cell_type": "markdown",
      "metadata": {
        "id": "Jmvd0b60j86Y"
      },
      "source": [
        "#### **4) 가중치의 의미 확인하기**"
      ],
      "id": "Jmvd0b60j86Y"
    },
    {
      "cell_type": "code",
      "execution_count": null,
      "metadata": {
        "ExecuteTime": {
          "end_time": "2023-05-04T07:44:55.916252Z",
          "start_time": "2023-05-04T07:44:55.899533Z"
        },
        "id": "_y3p0dMkj86Y"
      },
      "outputs": [],
      "source": [
        "# 주요 Feature 삭제를 위해 칼럼명 재확인하기\n",
        "train.columns"
      ],
      "id": "_y3p0dMkj86Y"
    },
    {
      "cell_type": "code",
      "execution_count": null,
      "metadata": {
        "ExecuteTime": {
          "end_time": "2023-05-04T07:44:56.511782Z",
          "start_time": "2023-05-04T07:44:56.468799Z"
        },
        "id": "akH7j8Swj86Z"
      },
      "outputs": [],
      "source": [
        "# 주요 Feature 삭제하기\n",
        "x = x.drop(['총 콜레스테롤', '트리글리세라이드', 'HDL 콜레스테롤'],axis = 1)"
      ],
      "id": "akH7j8Swj86Z"
    },
    {
      "cell_type": "code",
      "execution_count": null,
      "metadata": {
        "ExecuteTime": {
          "end_time": "2023-05-04T07:44:57.152664Z",
          "start_time": "2023-05-04T07:44:56.979916Z"
        },
        "id": "kVlV0lE8j86a"
      },
      "outputs": [],
      "source": [
        "# scikit learn 예시 코드 비율 대로 불러오기\n",
        "X_train, X_test, y_train, y_test = train_test_split(\n",
        "    x, y, test_size=0.33, random_state=42)"
      ],
      "id": "kVlV0lE8j86a"
    },
    {
      "cell_type": "markdown",
      "metadata": {
        "id": "EqnCR99tj86a"
      },
      "source": [
        "#### **5) 선형회귀 모델 재학습하기**"
      ],
      "id": "EqnCR99tj86a"
    },
    {
      "cell_type": "code",
      "execution_count": null,
      "metadata": {
        "ExecuteTime": {
          "end_time": "2023-05-04T07:44:58.794664Z",
          "start_time": "2023-05-04T07:44:58.439863Z"
        },
        "id": "HmJvbnRJj86a"
      },
      "outputs": [],
      "source": [
        "# 선형회귀 재생성 및 학습하기\n",
        "lr = LinearRegression()\n",
        "lr.fit(X_train,y_train)"
      ],
      "id": "HmJvbnRJj86a"
    },
    {
      "cell_type": "code",
      "execution_count": null,
      "metadata": {
        "ExecuteTime": {
          "end_time": "2023-05-04T07:44:59.588832Z",
          "start_time": "2023-05-04T07:44:59.568559Z"
        },
        "id": "AIfI9U49j86a"
      },
      "outputs": [],
      "source": [
        "# 각각 데이터에 대해 가중치(or 회귀계수) 확인하기\n",
        "print(f'''coef\n",
        "{lr.coef_}\n",
        "intercept\n",
        "{lr.intercept_}''')"
      ],
      "id": "AIfI9U49j86a"
    },
    {
      "cell_type": "markdown",
      "metadata": {
        "id": "fHMVEKNEj86a"
      },
      "source": [
        "#### **6) 가중치 비교하기**"
      ],
      "id": "fHMVEKNEj86a"
    },
    {
      "cell_type": "code",
      "execution_count": null,
      "metadata": {
        "ExecuteTime": {
          "end_time": "2023-05-04T07:45:00.780169Z",
          "start_time": "2023-05-04T07:45:00.751585Z"
        },
        "id": "64G6spYNj86b"
      },
      "outputs": [],
      "source": [
        "# 검증 데이터로 예측하기\n",
        "y_pred = lr.predict(X_test)"
      ],
      "id": "64G6spYNj86b"
    },
    {
      "cell_type": "code",
      "execution_count": null,
      "metadata": {
        "ExecuteTime": {
          "end_time": "2023-05-04T07:45:01.644714Z",
          "start_time": "2023-05-04T07:45:01.626253Z"
        },
        "id": "RDGwworYj86b"
      },
      "outputs": [],
      "source": [
        "# 각각 데이터에 대해 가중치(또는 회귀계수) 확인하기\n",
        "print(\"가중치 확인\")\n",
        "for index ,columns in enumerate(X_train.columns):\n",
        "    print(f\"{columns} = {reg.coef_[index]}\")"
      ],
      "id": "RDGwworYj86b"
    },
    {
      "cell_type": "code",
      "execution_count": null,
      "metadata": {
        "ExecuteTime": {
          "end_time": "2023-05-04T07:45:02.255556Z",
          "start_time": "2023-05-04T07:45:02.236649Z"
        },
        "id": "kgmo6rFZj86b"
      },
      "outputs": [],
      "source": [
        "# 주요 Feature 삭제 후 RMSE 확인하기\n",
        "rmse_2 = mean_squared_error(y_test, y_pred)"
      ],
      "id": "kgmo6rFZj86b"
    },
    {
      "cell_type": "code",
      "execution_count": null,
      "metadata": {
        "ExecuteTime": {
          "end_time": "2023-05-04T07:45:02.772403Z",
          "start_time": "2023-05-04T07:45:02.755297Z"
        },
        "id": "kFvDwQDrj86b"
      },
      "outputs": [],
      "source": [
        "# 가중치가 큰 특성을 삭제 했을 때 영향을 많이 받는지 확인하기\n",
        "print(f'''주요 Feature 삭제 후 rmse = {round(rmse_2,3)}''')"
      ],
      "id": "kFvDwQDrj86b"
    },
    {
      "cell_type": "markdown",
      "source": [
        "\n",
        "\n",
        "---\n",
        "\n"
      ],
      "metadata": {
        "id": "69ZO4NC1l-Js"
      },
      "id": "69ZO4NC1l-Js"
    }
  ],
  "metadata": {
    "colab": {
      "provenance": [],
      "toc_visible": true
    },
    "language_info": {
      "name": "python"
    },
    "kernelspec": {
      "name": "python3",
      "display_name": "Python 3"
    }
  },
  "nbformat": 4,
  "nbformat_minor": 5
}